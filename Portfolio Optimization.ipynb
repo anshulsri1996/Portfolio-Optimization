{
 "cells": [
  {
   "cell_type": "code",
   "execution_count": 1,
   "id": "1614bf9f-070c-4079-892c-02a189fabcd0",
   "metadata": {},
   "outputs": [],
   "source": [
    "import pandas as pd\n",
    "import numpy as np\n",
    "from matplotlib import pyplot as plt\n",
    "import yfinance as yf\n",
    "from datetime import datetime, timedelta\n",
    "from scipy.optimize import minimize\n",
    "import warnings\n",
    "warnings.filterwarnings(\"ignore\")"
   ]
  },
  {
   "cell_type": "code",
   "execution_count": 2,
   "id": "1a1306c8-3cb5-481c-b8f9-b6ea31610c6e",
   "metadata": {},
   "outputs": [],
   "source": [
    "tickers=['ZGLD.SW','MSFT','REIT','TIP']\n",
    "weights=np.array([0.25,0.25,0.25,0.25])\n",
    "risk_free_rate=0.02"
   ]
  },
  {
   "cell_type": "code",
   "execution_count": 3,
   "id": "c0f63b11-47e6-4f78-b81a-a9e77d137f63",
   "metadata": {},
   "outputs": [
    {
     "name": "stdout",
     "output_type": "stream",
     "text": [
      "2024-11-15\n"
     ]
    }
   ],
   "source": [
    "end_date=datetime.today().date()\n",
    "print(end_date)"
   ]
  },
  {
   "cell_type": "code",
   "execution_count": 4,
   "id": "00bec193-0c6d-43eb-af52-518317713302",
   "metadata": {},
   "outputs": [
    {
     "name": "stdout",
     "output_type": "stream",
     "text": [
      "2019-11-17\n"
     ]
    }
   ],
   "source": [
    "start_date=end_date-timedelta(days=5*365)\n",
    "print(start_date)"
   ]
  },
  {
   "cell_type": "code",
   "execution_count": 5,
   "id": "13102504-e634-4d51-b855-ae612ae86be2",
   "metadata": {},
   "outputs": [
    {
     "name": "stderr",
     "output_type": "stream",
     "text": [
      "[*********************100%***********************]  1 of 1 completed\n",
      "[*********************100%***********************]  1 of 1 completed\n",
      "[*********************100%***********************]  1 of 1 completed\n",
      "[*********************100%***********************]  1 of 1 completed\n"
     ]
    }
   ],
   "source": [
    "adj_close_df=pd.DataFrame()\n",
    "for ticker in tickers:\n",
    "    data=yf.download(ticker, start=start_date, end=end_date)\n",
    "    adj_close_df[ticker]=data['Adj Close']"
   ]
  },
  {
   "cell_type": "code",
   "execution_count": 6,
   "id": "18714f8f-c322-470b-8909-ab7d72e7cd2c",
   "metadata": {},
   "outputs": [
    {
     "data": {
      "text/html": [
       "<div>\n",
       "<style scoped>\n",
       "    .dataframe tbody tr th:only-of-type {\n",
       "        vertical-align: middle;\n",
       "    }\n",
       "\n",
       "    .dataframe tbody tr th {\n",
       "        vertical-align: top;\n",
       "    }\n",
       "\n",
       "    .dataframe thead th {\n",
       "        text-align: right;\n",
       "    }\n",
       "</style>\n",
       "<table border=\"1\" class=\"dataframe\">\n",
       "  <thead>\n",
       "    <tr style=\"text-align: right;\">\n",
       "      <th></th>\n",
       "      <th>ZGLD.SW</th>\n",
       "      <th>MSFT</th>\n",
       "      <th>REIT</th>\n",
       "      <th>TIP</th>\n",
       "    </tr>\n",
       "    <tr>\n",
       "      <th>Date</th>\n",
       "      <th></th>\n",
       "      <th></th>\n",
       "      <th></th>\n",
       "      <th></th>\n",
       "    </tr>\n",
       "  </thead>\n",
       "  <tbody>\n",
       "    <tr>\n",
       "      <th>2019-11-18 00:00:00+00:00</th>\n",
       "      <td>443.500000</td>\n",
       "      <td>143.597229</td>\n",
       "      <td>NaN</td>\n",
       "      <td>97.964989</td>\n",
       "    </tr>\n",
       "    <tr>\n",
       "      <th>2019-11-19 00:00:00+00:00</th>\n",
       "      <td>444.549988</td>\n",
       "      <td>143.644958</td>\n",
       "      <td>NaN</td>\n",
       "      <td>98.142265</td>\n",
       "    </tr>\n",
       "    <tr>\n",
       "      <th>2019-11-20 00:00:00+00:00</th>\n",
       "      <td>444.000000</td>\n",
       "      <td>143.395813</td>\n",
       "      <td>NaN</td>\n",
       "      <td>98.522102</td>\n",
       "    </tr>\n",
       "    <tr>\n",
       "      <th>2019-11-21 00:00:00+00:00</th>\n",
       "      <td>443.450012</td>\n",
       "      <td>143.261612</td>\n",
       "      <td>NaN</td>\n",
       "      <td>98.302658</td>\n",
       "    </tr>\n",
       "    <tr>\n",
       "      <th>2019-11-22 00:00:00+00:00</th>\n",
       "      <td>444.750000</td>\n",
       "      <td>143.367081</td>\n",
       "      <td>NaN</td>\n",
       "      <td>98.336411</td>\n",
       "    </tr>\n",
       "    <tr>\n",
       "      <th>...</th>\n",
       "      <td>...</td>\n",
       "      <td>...</td>\n",
       "      <td>...</td>\n",
       "      <td>...</td>\n",
       "    </tr>\n",
       "    <tr>\n",
       "      <th>2024-11-08 00:00:00+00:00</th>\n",
       "      <td>698.799988</td>\n",
       "      <td>422.540009</td>\n",
       "      <td>29.000000</td>\n",
       "      <td>108.570000</td>\n",
       "    </tr>\n",
       "    <tr>\n",
       "      <th>2024-11-11 00:00:00+00:00</th>\n",
       "      <td>684.900024</td>\n",
       "      <td>418.010010</td>\n",
       "      <td>28.959999</td>\n",
       "      <td>108.209999</td>\n",
       "    </tr>\n",
       "    <tr>\n",
       "      <th>2024-11-12 00:00:00+00:00</th>\n",
       "      <td>682.500000</td>\n",
       "      <td>423.029999</td>\n",
       "      <td>28.580000</td>\n",
       "      <td>107.639999</td>\n",
       "    </tr>\n",
       "    <tr>\n",
       "      <th>2024-11-13 00:00:00+00:00</th>\n",
       "      <td>681.299988</td>\n",
       "      <td>425.200012</td>\n",
       "      <td>28.750000</td>\n",
       "      <td>107.440002</td>\n",
       "    </tr>\n",
       "    <tr>\n",
       "      <th>2024-11-14 00:00:00+00:00</th>\n",
       "      <td>680.400024</td>\n",
       "      <td>426.890015</td>\n",
       "      <td>28.370001</td>\n",
       "      <td>107.419998</td>\n",
       "    </tr>\n",
       "  </tbody>\n",
       "</table>\n",
       "<p>1260 rows × 4 columns</p>\n",
       "</div>"
      ],
      "text/plain": [
       "                              ZGLD.SW        MSFT       REIT         TIP\n",
       "Date                                                                    \n",
       "2019-11-18 00:00:00+00:00  443.500000  143.597229        NaN   97.964989\n",
       "2019-11-19 00:00:00+00:00  444.549988  143.644958        NaN   98.142265\n",
       "2019-11-20 00:00:00+00:00  444.000000  143.395813        NaN   98.522102\n",
       "2019-11-21 00:00:00+00:00  443.450012  143.261612        NaN   98.302658\n",
       "2019-11-22 00:00:00+00:00  444.750000  143.367081        NaN   98.336411\n",
       "...                               ...         ...        ...         ...\n",
       "2024-11-08 00:00:00+00:00  698.799988  422.540009  29.000000  108.570000\n",
       "2024-11-11 00:00:00+00:00  684.900024  418.010010  28.959999  108.209999\n",
       "2024-11-12 00:00:00+00:00  682.500000  423.029999  28.580000  107.639999\n",
       "2024-11-13 00:00:00+00:00  681.299988  425.200012  28.750000  107.440002\n",
       "2024-11-14 00:00:00+00:00  680.400024  426.890015  28.370001  107.419998\n",
       "\n",
       "[1260 rows x 4 columns]"
      ]
     },
     "execution_count": 6,
     "metadata": {},
     "output_type": "execute_result"
    }
   ],
   "source": [
    "adj_close_df"
   ]
  },
  {
   "cell_type": "code",
   "execution_count": 7,
   "id": "7719a85d-1b76-42bb-9cb2-99e344c5c5c7",
   "metadata": {},
   "outputs": [],
   "source": [
    "adj_close_df.dropna(inplace=True)"
   ]
  },
  {
   "cell_type": "code",
   "execution_count": 8,
   "id": "344f336c-b6a7-4908-9f94-8cadb3399e6f",
   "metadata": {},
   "outputs": [
    {
     "data": {
      "text/html": [
       "<div>\n",
       "<style scoped>\n",
       "    .dataframe tbody tr th:only-of-type {\n",
       "        vertical-align: middle;\n",
       "    }\n",
       "\n",
       "    .dataframe tbody tr th {\n",
       "        vertical-align: top;\n",
       "    }\n",
       "\n",
       "    .dataframe thead th {\n",
       "        text-align: right;\n",
       "    }\n",
       "</style>\n",
       "<table border=\"1\" class=\"dataframe\">\n",
       "  <thead>\n",
       "    <tr style=\"text-align: right;\">\n",
       "      <th></th>\n",
       "      <th>ZGLD.SW</th>\n",
       "      <th>MSFT</th>\n",
       "      <th>REIT</th>\n",
       "      <th>TIP</th>\n",
       "    </tr>\n",
       "    <tr>\n",
       "      <th>Date</th>\n",
       "      <th></th>\n",
       "      <th></th>\n",
       "      <th></th>\n",
       "      <th></th>\n",
       "    </tr>\n",
       "  </thead>\n",
       "  <tbody>\n",
       "    <tr>\n",
       "      <th>2021-02-26 00:00:00+00:00</th>\n",
       "      <td>473.700012</td>\n",
       "      <td>225.590714</td>\n",
       "      <td>21.420008</td>\n",
       "      <td>107.701447</td>\n",
       "    </tr>\n",
       "    <tr>\n",
       "      <th>2021-03-01 00:00:00+00:00</th>\n",
       "      <td>480.549988</td>\n",
       "      <td>230.017487</td>\n",
       "      <td>21.300283</td>\n",
       "      <td>107.341942</td>\n",
       "    </tr>\n",
       "    <tr>\n",
       "      <th>2021-03-02 00:00:00+00:00</th>\n",
       "      <td>478.500000</td>\n",
       "      <td>227.037186</td>\n",
       "      <td>21.163948</td>\n",
       "      <td>107.778473</td>\n",
       "    </tr>\n",
       "    <tr>\n",
       "      <th>2021-03-03 00:00:00+00:00</th>\n",
       "      <td>478.299988</td>\n",
       "      <td>220.911530</td>\n",
       "      <td>21.058205</td>\n",
       "      <td>107.504555</td>\n",
       "    </tr>\n",
       "    <tr>\n",
       "      <th>2021-03-04 00:00:00+00:00</th>\n",
       "      <td>480.700012</td>\n",
       "      <td>220.105789</td>\n",
       "      <td>20.795149</td>\n",
       "      <td>107.093742</td>\n",
       "    </tr>\n",
       "    <tr>\n",
       "      <th>...</th>\n",
       "      <td>...</td>\n",
       "      <td>...</td>\n",
       "      <td>...</td>\n",
       "      <td>...</td>\n",
       "    </tr>\n",
       "    <tr>\n",
       "      <th>2024-11-08 00:00:00+00:00</th>\n",
       "      <td>698.799988</td>\n",
       "      <td>422.540009</td>\n",
       "      <td>29.000000</td>\n",
       "      <td>108.570000</td>\n",
       "    </tr>\n",
       "    <tr>\n",
       "      <th>2024-11-11 00:00:00+00:00</th>\n",
       "      <td>684.900024</td>\n",
       "      <td>418.010010</td>\n",
       "      <td>28.959999</td>\n",
       "      <td>108.209999</td>\n",
       "    </tr>\n",
       "    <tr>\n",
       "      <th>2024-11-12 00:00:00+00:00</th>\n",
       "      <td>682.500000</td>\n",
       "      <td>423.029999</td>\n",
       "      <td>28.580000</td>\n",
       "      <td>107.639999</td>\n",
       "    </tr>\n",
       "    <tr>\n",
       "      <th>2024-11-13 00:00:00+00:00</th>\n",
       "      <td>681.299988</td>\n",
       "      <td>425.200012</td>\n",
       "      <td>28.750000</td>\n",
       "      <td>107.440002</td>\n",
       "    </tr>\n",
       "    <tr>\n",
       "      <th>2024-11-14 00:00:00+00:00</th>\n",
       "      <td>680.400024</td>\n",
       "      <td>426.890015</td>\n",
       "      <td>28.370001</td>\n",
       "      <td>107.419998</td>\n",
       "    </tr>\n",
       "  </tbody>\n",
       "</table>\n",
       "<p>918 rows × 4 columns</p>\n",
       "</div>"
      ],
      "text/plain": [
       "                              ZGLD.SW        MSFT       REIT         TIP\n",
       "Date                                                                    \n",
       "2021-02-26 00:00:00+00:00  473.700012  225.590714  21.420008  107.701447\n",
       "2021-03-01 00:00:00+00:00  480.549988  230.017487  21.300283  107.341942\n",
       "2021-03-02 00:00:00+00:00  478.500000  227.037186  21.163948  107.778473\n",
       "2021-03-03 00:00:00+00:00  478.299988  220.911530  21.058205  107.504555\n",
       "2021-03-04 00:00:00+00:00  480.700012  220.105789  20.795149  107.093742\n",
       "...                               ...         ...        ...         ...\n",
       "2024-11-08 00:00:00+00:00  698.799988  422.540009  29.000000  108.570000\n",
       "2024-11-11 00:00:00+00:00  684.900024  418.010010  28.959999  108.209999\n",
       "2024-11-12 00:00:00+00:00  682.500000  423.029999  28.580000  107.639999\n",
       "2024-11-13 00:00:00+00:00  681.299988  425.200012  28.750000  107.440002\n",
       "2024-11-14 00:00:00+00:00  680.400024  426.890015  28.370001  107.419998\n",
       "\n",
       "[918 rows x 4 columns]"
      ]
     },
     "execution_count": 8,
     "metadata": {},
     "output_type": "execute_result"
    }
   ],
   "source": [
    "adj_close_df"
   ]
  },
  {
   "cell_type": "code",
   "execution_count": 9,
   "id": "99b5ed1a-8715-4c2a-ac1d-fecbe39236dd",
   "metadata": {},
   "outputs": [],
   "source": [
    "#final/initial of an asset can be positive only, if the asset price increases then final/initial>1 otherwise <1, log returns give log(final/initial) \n",
    "#which is positive if final/initial >1 and negatice if finaL/initial <1\n",
    "log_returns=np.log(adj_close_df/adj_close_df.shift(1))"
   ]
  },
  {
   "cell_type": "code",
   "execution_count": 10,
   "id": "6b7430ea-0db2-42c2-a248-7ec72f24fe8e",
   "metadata": {},
   "outputs": [],
   "source": [
    "log_returns.dropna(inplace=True)"
   ]
  },
  {
   "cell_type": "code",
   "execution_count": 11,
   "id": "e3599a6b-09e6-4ad8-ac2a-4e579311911c",
   "metadata": {},
   "outputs": [
    {
     "data": {
      "text/html": [
       "<div>\n",
       "<style scoped>\n",
       "    .dataframe tbody tr th:only-of-type {\n",
       "        vertical-align: middle;\n",
       "    }\n",
       "\n",
       "    .dataframe tbody tr th {\n",
       "        vertical-align: top;\n",
       "    }\n",
       "\n",
       "    .dataframe thead th {\n",
       "        text-align: right;\n",
       "    }\n",
       "</style>\n",
       "<table border=\"1\" class=\"dataframe\">\n",
       "  <thead>\n",
       "    <tr style=\"text-align: right;\">\n",
       "      <th></th>\n",
       "      <th>ZGLD.SW</th>\n",
       "      <th>MSFT</th>\n",
       "      <th>REIT</th>\n",
       "      <th>TIP</th>\n",
       "    </tr>\n",
       "    <tr>\n",
       "      <th>Date</th>\n",
       "      <th></th>\n",
       "      <th></th>\n",
       "      <th></th>\n",
       "      <th></th>\n",
       "    </tr>\n",
       "  </thead>\n",
       "  <tbody>\n",
       "    <tr>\n",
       "      <th>2021-03-01 00:00:00+00:00</th>\n",
       "      <td>0.014357</td>\n",
       "      <td>0.019433</td>\n",
       "      <td>-0.005605</td>\n",
       "      <td>-0.003344</td>\n",
       "    </tr>\n",
       "    <tr>\n",
       "      <th>2021-03-02 00:00:00+00:00</th>\n",
       "      <td>-0.004275</td>\n",
       "      <td>-0.013042</td>\n",
       "      <td>-0.006421</td>\n",
       "      <td>0.004058</td>\n",
       "    </tr>\n",
       "    <tr>\n",
       "      <th>2021-03-03 00:00:00+00:00</th>\n",
       "      <td>-0.000418</td>\n",
       "      <td>-0.027352</td>\n",
       "      <td>-0.005009</td>\n",
       "      <td>-0.002545</td>\n",
       "    </tr>\n",
       "    <tr>\n",
       "      <th>2021-03-04 00:00:00+00:00</th>\n",
       "      <td>0.005005</td>\n",
       "      <td>-0.003654</td>\n",
       "      <td>-0.012571</td>\n",
       "      <td>-0.003829</td>\n",
       "    </tr>\n",
       "    <tr>\n",
       "      <th>2021-03-05 00:00:00+00:00</th>\n",
       "      <td>-0.005110</td>\n",
       "      <td>0.021252</td>\n",
       "      <td>0.008579</td>\n",
       "      <td>0.001038</td>\n",
       "    </tr>\n",
       "    <tr>\n",
       "      <th>...</th>\n",
       "      <td>...</td>\n",
       "      <td>...</td>\n",
       "      <td>...</td>\n",
       "      <td>...</td>\n",
       "    </tr>\n",
       "    <tr>\n",
       "      <th>2024-11-08 00:00:00+00:00</th>\n",
       "      <td>-0.000143</td>\n",
       "      <td>-0.006816</td>\n",
       "      <td>0.017041</td>\n",
       "      <td>0.002767</td>\n",
       "    </tr>\n",
       "    <tr>\n",
       "      <th>2024-11-11 00:00:00+00:00</th>\n",
       "      <td>-0.020092</td>\n",
       "      <td>-0.010779</td>\n",
       "      <td>-0.001380</td>\n",
       "      <td>-0.003321</td>\n",
       "    </tr>\n",
       "    <tr>\n",
       "      <th>2024-11-12 00:00:00+00:00</th>\n",
       "      <td>-0.003510</td>\n",
       "      <td>0.011938</td>\n",
       "      <td>-0.013208</td>\n",
       "      <td>-0.005281</td>\n",
       "    </tr>\n",
       "    <tr>\n",
       "      <th>2024-11-13 00:00:00+00:00</th>\n",
       "      <td>-0.001760</td>\n",
       "      <td>0.005117</td>\n",
       "      <td>0.005931</td>\n",
       "      <td>-0.001860</td>\n",
       "    </tr>\n",
       "    <tr>\n",
       "      <th>2024-11-14 00:00:00+00:00</th>\n",
       "      <td>-0.001322</td>\n",
       "      <td>0.003967</td>\n",
       "      <td>-0.013305</td>\n",
       "      <td>-0.000186</td>\n",
       "    </tr>\n",
       "  </tbody>\n",
       "</table>\n",
       "<p>917 rows × 4 columns</p>\n",
       "</div>"
      ],
      "text/plain": [
       "                            ZGLD.SW      MSFT      REIT       TIP\n",
       "Date                                                             \n",
       "2021-03-01 00:00:00+00:00  0.014357  0.019433 -0.005605 -0.003344\n",
       "2021-03-02 00:00:00+00:00 -0.004275 -0.013042 -0.006421  0.004058\n",
       "2021-03-03 00:00:00+00:00 -0.000418 -0.027352 -0.005009 -0.002545\n",
       "2021-03-04 00:00:00+00:00  0.005005 -0.003654 -0.012571 -0.003829\n",
       "2021-03-05 00:00:00+00:00 -0.005110  0.021252  0.008579  0.001038\n",
       "...                             ...       ...       ...       ...\n",
       "2024-11-08 00:00:00+00:00 -0.000143 -0.006816  0.017041  0.002767\n",
       "2024-11-11 00:00:00+00:00 -0.020092 -0.010779 -0.001380 -0.003321\n",
       "2024-11-12 00:00:00+00:00 -0.003510  0.011938 -0.013208 -0.005281\n",
       "2024-11-13 00:00:00+00:00 -0.001760  0.005117  0.005931 -0.001860\n",
       "2024-11-14 00:00:00+00:00 -0.001322  0.003967 -0.013305 -0.000186\n",
       "\n",
       "[917 rows x 4 columns]"
      ]
     },
     "execution_count": 11,
     "metadata": {},
     "output_type": "execute_result"
    }
   ],
   "source": [
    "log_returns"
   ]
  },
  {
   "cell_type": "code",
   "execution_count": 12,
   "id": "2596027b-505c-49f1-b92e-8695987a74de",
   "metadata": {},
   "outputs": [
    {
     "name": "stdout",
     "output_type": "stream",
     "text": [
      "          ZGLD.SW      MSFT      REIT       TIP\n",
      "ZGLD.SW  0.015846  0.000786  0.001168  0.001768\n",
      "MSFT     0.000786  0.071355  0.021962  0.003131\n",
      "REIT     0.001168  0.021962  0.038388  0.004055\n",
      "TIP      0.001768  0.003131  0.004055  0.004708\n"
     ]
    }
   ],
   "source": [
    "cov_matrix=log_returns.cov()*252\n",
    "print(cov_matrix)"
   ]
  },
  {
   "cell_type": "code",
   "execution_count": 13,
   "id": "05310cb5-2b2e-4ef4-b64c-bfaab17f8ebb",
   "metadata": {},
   "outputs": [],
   "source": [
    "def standard_deviation(weights, cov_matrix):\n",
    "    variance = weights.T @ cov_matrix @ weights\n",
    "    return np.sqrt(variance)"
   ]
  },
  {
   "cell_type": "code",
   "execution_count": 14,
   "id": "6f6872ac-e056-4f89-aca0-e6ef44280451",
   "metadata": {},
   "outputs": [],
   "source": [
    "def expected_return(weights, log_returns):\n",
    "    return np.sum(log_returns.mean()*weights)*252"
   ]
  },
  {
   "cell_type": "code",
   "execution_count": 15,
   "id": "81e7af84-bd10-4b28-8919-e4c84d27a7f9",
   "metadata": {},
   "outputs": [],
   "source": [
    "def sharpe_ratio(weights, log_returns, cov_matrix, risk_free_rate):\n",
    "    return (expected_return(weights, log_returns) - risk_free_rate) / standard_deviation(weights, cov_matrix)"
   ]
  },
  {
   "cell_type": "code",
   "execution_count": 16,
   "id": "c3763f53-b850-4167-8219-56cf5ca49c1f",
   "metadata": {},
   "outputs": [],
   "source": [
    "def neg_sharpe_ratio(weights, log_returns, cov_matrix, risk_free_rate):\n",
    "    return -sharpe_ratio(weights, log_returns, cov_matrix, risk_free_rate)"
   ]
  },
  {
   "cell_type": "code",
   "execution_count": 17,
   "id": "07718c0b-b5b8-4e43-8701-3efed73a5497",
   "metadata": {},
   "outputs": [],
   "source": [
    "constraints = {'type': 'eq', 'fun': lambda weights: np.sum(weights) - 1}\n",
    "bounds = [(0, 0.3) for _ in range(len(tickers))]  # Each weight between 0 and 0.4\n",
    "initial_weights = np.array([1/len(tickers)] * len(tickers))  # Initial guess: assigns equal weight to all the tickers"
   ]
  },
  {
   "cell_type": "code",
   "execution_count": 18,
   "id": "c8701b46-c711-4786-b101-e95a598d930b",
   "metadata": {},
   "outputs": [],
   "source": [
    "optimized_results = minimize(neg_sharpe_ratio, initial_weights, args=(log_returns, cov_matrix, risk_free_rate), method='SLSQP', constraints=constraints, bounds=bounds)"
   ]
  },
  {
   "cell_type": "code",
   "execution_count": 19,
   "id": "467b2e72-9c3c-44bd-9368-763577abf593",
   "metadata": {},
   "outputs": [
    {
     "data": {
      "text/plain": [
       "array([0.3       , 0.3       , 0.25337493, 0.14662507])"
      ]
     },
     "execution_count": 19,
     "metadata": {},
     "output_type": "execute_result"
    }
   ],
   "source": [
    "optimal_weights=optimized_results.x\n",
    "optimal_weights"
   ]
  },
  {
   "cell_type": "code",
   "execution_count": 20,
   "id": "6b994ee4-8754-42d3-a1df-8b420fddac8c",
   "metadata": {},
   "outputs": [
    {
     "name": "stdout",
     "output_type": "stream",
     "text": [
      "Optimal Weights:\n",
      "ZGLD.SW: 0.3000\n",
      "MSFT: 0.3000\n",
      "REIT: 0.2534\n",
      "TIP: 0.1466\n"
     ]
    }
   ],
   "source": [
    "print(\"Optimal Weights:\")\n",
    "for ticker, weight in zip(tickers, optimal_weights):\n",
    "    print(f\"{ticker}: {weight:.4f}\")"
   ]
  },
  {
   "cell_type": "code",
   "execution_count": 21,
   "id": "1a64adc4-0839-4748-8b42-6ce2fe18d441",
   "metadata": {},
   "outputs": [
    {
     "name": "stdout",
     "output_type": "stream",
     "text": [
      "Expected Annual Return: 0.1019\n",
      "Expected Volatility: 0.1217\n",
      "Sharpe Ratio: 0.6731\n"
     ]
    }
   ],
   "source": [
    "optimal_portfolio_return = expected_return(optimal_weights, log_returns)\n",
    "optimal_portfolio_volatility = standard_deviation(optimal_weights, cov_matrix)\n",
    "optimal_sharpe_ratio = sharpe_ratio(optimal_weights, log_returns, cov_matrix, risk_free_rate)\n",
    "\n",
    "print(f\"Expected Annual Return: {optimal_portfolio_return:.4f}\")\n",
    "print(f\"Expected Volatility: {optimal_portfolio_volatility:.4f}\")\n",
    "print(f\"Sharpe Ratio: {optimal_sharpe_ratio:.4f}\")"
   ]
  },
  {
   "cell_type": "code",
   "execution_count": 22,
   "id": "2185c7ee-bef5-4d6c-84d3-c478e3b68fcc",
   "metadata": {},
   "outputs": [
    {
     "name": "stderr",
     "output_type": "stream",
     "text": [
      "No artists with labels found to put in legend.  Note that artists whose label start with an underscore are ignored when legend() is called with no argument.\n"
     ]
    },
    {
     "name": "stdout",
     "output_type": "stream",
     "text": [
      "Expected Annual Return: 0.0878\n",
      "Expected Volatility: 0.1107\n",
      "Sharpe Ratio: 0.6127\n"
     ]
    },
    {
     "data": {
      "image/png": "[encoded data removed]",
      "text/plain": [
       "<Figure size 1000x600 with 1 Axes>"
      ]
     },
     "metadata": {},
     "output_type": "display_data"
    }
   ],
   "source": [
    "portfolio_return = expected_return(initial_weights, log_returns)\n",
    "portfolio_volatility = standard_deviation(initial_weights, cov_matrix)\n",
    "sharpe_ratio = sharpe_ratio(initial_weights, log_returns, cov_matrix, risk_free_rate)\n",
    "\n",
    "print(f\"Expected Annual Return: {portfolio_return:.4f}\")\n",
    "print(f\"Expected Volatility: {portfolio_volatility:.4f}\")\n",
    "print(f\"Sharpe Ratio: {sharpe_ratio:.4f}\")\n",
    "plt.figure(figsize=(10, 6))\n",
    "plt.bar(tickers, weights)\n",
    "\n",
    "plt.xlabel('Assets')\n",
    "plt.ylabel('Weights')\n",
    "plt.title('Initial Portfolio Weights')\n",
    "plt.legend(loc='upper right', fontsize='large', title=f'Returns={portfolio_return:.4f}\\n\\\n",
    "Volatility={portfolio_volatility:.4f}\\n\\\n",
    "Sharpe Ratio={sharpe_ratio:.4f}', title_fontsize='medium')\n",
    "plt.show()"
   ]
  },
  {
   "cell_type": "code",
   "execution_count": 23,
   "id": "099a7122-7806-4dfe-b8f7-507d8b616373",
   "metadata": {},
   "outputs": [
    {
     "name": "stderr",
     "output_type": "stream",
     "text": [
      "No artists with labels found to put in legend.  Note that artists whose label start with an underscore are ignored when legend() is called with no argument.\n"
     ]
    },
    {
     "data": {
      "image/png": "[encoded data removed]",
      "text/plain": [
       "<Figure size 1000x600 with 1 Axes>"
      ]
     },
     "metadata": {},
     "output_type": "display_data"
    }
   ],
   "source": [
    "plt.figure(figsize=(10, 6))\n",
    "plt.bar(tickers, optimal_weights)\n",
    "\n",
    "plt.xlabel('Assets')\n",
    "plt.ylabel('Optimal Weights')\n",
    "plt.title('Optimal Portfolio Weights')\n",
    "plt.legend(loc='upper right', fontsize='large', title=f'Returns={optimal_portfolio_return:.4f}\\n\\\n",
    "Volatility={optimal_portfolio_volatility:.4f}\\n\\\n",
    "Sharpe Ratio={optimal_sharpe_ratio:.4f}', title_fontsize='medium')\n",
    "plt.show()"
   ]
  },
  {
   "cell_type": "code",
   "execution_count": null,
   "id": "e18af6d9-82f9-474b-a49b-8f4185dad8ac",
   "metadata": {},
   "outputs": [],
   "source": [
    "Simulate for different weights upper bound and lower bound to see if the return changes\n",
    "simuklate for different risk free rates to see maximum returns\n"
   ]
  }
 ],
 "metadata": {
  "kernelspec": {
   "display_name": "Python 3 (ipykernel)",
   "language": "python",
   "name": "python3"
  },
  "language_info": {
   "codemirror_mode": {
    "name": "ipython",
    "version": 3
   },
   "file_extension": ".py",
   "mimetype": "text/x-python",
   "name": "python",
   "nbconvert_exporter": "python",
   "pygments_lexer": "ipython3",
   "version": "3.11.7"
  }
 },
 "nbformat": 4,
 "nbformat_minor": 5
}
